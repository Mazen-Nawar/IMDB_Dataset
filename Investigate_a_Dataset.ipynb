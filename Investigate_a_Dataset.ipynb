{
 "cells": [
  {
   "cell_type": "markdown",
   "metadata": {},
   "source": [
    "> **Tip**: Welcome to the Investigate a Dataset project! You will find tips in quoted sections like this to help organize your approach to your investigation. Once you complete this project, remove these **Tip** sections from your report before submission. First things first, you might want to double-click this Markdown cell and change the title so that it reflects your dataset and investigation.\n",
    "\n",
    "# Project: Investigate a Dataset - [Dataset-name]\n",
    "\n",
    "## Table of Contents\n",
    "<ul>\n",
    "<li><a href=\"#intro\">Introduction</a></li>\n",
    "<li><a href=\"#wrangling\">Data Wrangling</a></li>\n",
    "<li><a href=\"#eda\">Exploratory Data Analysis</a></li>\n",
    "<li><a href=\"#conclusions\">Conclusions</a></li>\n",
    "</ul>"
   ]
  },
  {
   "cell_type": "markdown",
   "metadata": {},
   "source": [
    "<a id='intro'></a>\n",
    "## Introduction\n",
    "\n",
    "### Dataset Description \n",
    "\n",
    "> **Tip**: In this section of the report, provide a brief introduction to the dataset you've selected/downloaded for analysis. Read through the description available on the homepage-links present [here](https://docs.google.com/document/d/e/2PACX-1vTlVmknRRnfy_4eTrjw5hYGaiQim5ctr9naaRd4V9du2B5bxpd8FEH3KtDgp8qVekw7Cj1GLk1IXdZi/pub?embedded=True). List all column names in each table, and their significance. In case of multiple tables, describe the relationship between tables. \n",
    "\n",
    "\n",
    "### Question(s) for Analysis\n",
    ">**Tip**: Clearly state one or more questions that you plan on exploring over the course of the report. You will address these questions in the **data analysis** and **conclusion** sections. Try to build your report around the analysis of at least one dependent variable and three independent variables. If you're not sure what questions to ask, then make sure you familiarize yourself with the dataset, its variables and the dataset context for ideas of what to explore.\n",
    "\n",
    "> **Tip**: Once you start coding, use NumPy arrays, Pandas Series, and DataFrames where appropriate rather than Python lists and dictionaries. Also, **use good coding practices**, such as, define and use functions to avoid repetitive code. Use appropriate comments within the code cells, explanation in the mark-down cells, and meaningful variable names. "
   ]
  },
  {
   "cell_type": "markdown",
   "metadata": {},
   "source": [
    "# Questions to be answered during this analysis\n",
    "### 1. Which movies have max/min profit, max/min budget, max/min revenue?\n",
    "### 2. What is the runtime average for all movies ?\n",
    "### 3. Who is the director with the most profitable movies?\n",
    "### 4. What are the most profitable Genres?\n",
    "### 5. what are movie profits from 1996 to 2015?\n",
    "### 6.Who are the top ten participating actors in profitable movies"
   ]
  },
  {
   "cell_type": "code",
   "execution_count": 2,
   "metadata": {},
   "outputs": [],
   "source": [
    "# Use this cell to set up import statements for all of the packages that you\n",
    "#   plan to use.\n",
    "\n",
    "# Remember to include a 'magic word' so that your visualizations are plotted\n",
    "#   inline with the notebook. See this page for more:\n",
    "#   http://ipython.readthedocs.io/en/stable/interactive/magics.html\n",
    "import numpy as np\n",
    "import pandas as pd\n",
    "import matplotlib.pyplot as plt\n",
    "import seaborn as sns\n",
    "% matplotlib inline\n"
   ]
  },
  {
   "cell_type": "code",
   "execution_count": 3,
   "metadata": {},
   "outputs": [
    {
     "name": "stdout",
     "output_type": "stream",
     "text": [
      "Requirement already up-to-date: pandas==0.25.0 in /opt/conda/lib/python3.6/site-packages (0.25.0)\r\n",
      "Requirement already satisfied, skipping upgrade: numpy>=1.13.3 in /opt/conda/lib/python3.6/site-packages (from pandas==0.25.0) (1.19.5)\r\n",
      "Requirement already satisfied, skipping upgrade: python-dateutil>=2.6.1 in /opt/conda/lib/python3.6/site-packages (from pandas==0.25.0) (2.6.1)\r\n",
      "Requirement already satisfied, skipping upgrade: pytz>=2017.2 in /opt/conda/lib/python3.6/site-packages (from pandas==0.25.0) (2017.3)\r\n",
      "Requirement already satisfied, skipping upgrade: six>=1.5 in /opt/conda/lib/python3.6/site-packages (from python-dateutil>=2.6.1->pandas==0.25.0) (1.11.0)\r\n"
     ]
    }
   ],
   "source": [
    "# Upgrade pandas to use dataframe.explode() function. \n",
    "!pip install --upgrade pandas==0.25.0"
   ]
  },
  {
   "cell_type": "markdown",
   "metadata": {},
   "source": [
    "<a id='wrangling'></a>\n",
    "## Data Wrangling\n",
    "\n",
    "> **Tip**: In this section of the report, you will load in the data, check for cleanliness, and then trim and clean your dataset for analysis. Make sure that you **document your data cleaning steps in mark-down cells precisely and justify your cleaning decisions.**\n",
    "\n",
    "\n",
    "### General Properties\n",
    "> **Tip**: You should _not_ perform too many operations in each cell. Create cells freely to explore your data. One option that you can take with this project is to do a lot of explorations in an initial notebook. These don't have to be organized, but make sure you use enough comments to understand the purpose of each code cell. Then, after you're done with your analysis, create a duplicate notebook where you will trim the excess and organize your steps so that you have a flowing, cohesive report."
   ]
  },
  {
   "cell_type": "code",
   "execution_count": 38,
   "metadata": {},
   "outputs": [
    {
     "data": {
      "text/html": [
       "<div>\n",
       "<style scoped>\n",
       "    .dataframe tbody tr th:only-of-type {\n",
       "        vertical-align: middle;\n",
       "    }\n",
       "\n",
       "    .dataframe tbody tr th {\n",
       "        vertical-align: top;\n",
       "    }\n",
       "\n",
       "    .dataframe thead th {\n",
       "        text-align: right;\n",
       "    }\n",
       "</style>\n",
       "<table border=\"1\" class=\"dataframe\">\n",
       "  <thead>\n",
       "    <tr style=\"text-align: right;\">\n",
       "      <th></th>\n",
       "      <th>id</th>\n",
       "      <th>imdb_id</th>\n",
       "      <th>popularity</th>\n",
       "      <th>budget</th>\n",
       "      <th>revenue</th>\n",
       "      <th>original_title</th>\n",
       "      <th>cast</th>\n",
       "      <th>homepage</th>\n",
       "      <th>director</th>\n",
       "      <th>tagline</th>\n",
       "      <th>...</th>\n",
       "      <th>overview</th>\n",
       "      <th>runtime</th>\n",
       "      <th>genres</th>\n",
       "      <th>production_companies</th>\n",
       "      <th>release_date</th>\n",
       "      <th>vote_count</th>\n",
       "      <th>vote_average</th>\n",
       "      <th>release_year</th>\n",
       "      <th>budget_adj</th>\n",
       "      <th>revenue_adj</th>\n",
       "    </tr>\n",
       "  </thead>\n",
       "  <tbody>\n",
       "    <tr>\n",
       "      <th>0</th>\n",
       "      <td>135397</td>\n",
       "      <td>tt0369610</td>\n",
       "      <td>32.985763</td>\n",
       "      <td>150000000</td>\n",
       "      <td>1513528810</td>\n",
       "      <td>Jurassic World</td>\n",
       "      <td>Chris Pratt|Bryce Dallas Howard|Irrfan Khan|Vincent D'Onofrio|Nick Robinson</td>\n",
       "      <td>http://www.jurassicworld.com/</td>\n",
       "      <td>Colin Trevorrow</td>\n",
       "      <td>The park is open.</td>\n",
       "      <td>...</td>\n",
       "      <td>Twenty-two years after the events of Jurassic Park, Isla Nublar now features a fully functioning dinosaur theme park, Jurassic World, as originally envisioned by John Hammond.</td>\n",
       "      <td>124</td>\n",
       "      <td>Action|Adventure|Science Fiction|Thriller</td>\n",
       "      <td>Universal Studios|Amblin Entertainment|Legendary Pictures|Fuji Television Network|Dentsu</td>\n",
       "      <td>6/9/15</td>\n",
       "      <td>5562</td>\n",
       "      <td>6.5</td>\n",
       "      <td>2015</td>\n",
       "      <td>1.379999e+08</td>\n",
       "      <td>1.392446e+09</td>\n",
       "    </tr>\n",
       "    <tr>\n",
       "      <th>1</th>\n",
       "      <td>76341</td>\n",
       "      <td>tt1392190</td>\n",
       "      <td>28.419936</td>\n",
       "      <td>150000000</td>\n",
       "      <td>378436354</td>\n",
       "      <td>Mad Max: Fury Road</td>\n",
       "      <td>Tom Hardy|Charlize Theron|Hugh Keays-Byrne|Nicholas Hoult|Josh Helman</td>\n",
       "      <td>http://www.madmaxmovie.com/</td>\n",
       "      <td>George Miller</td>\n",
       "      <td>What a Lovely Day.</td>\n",
       "      <td>...</td>\n",
       "      <td>An apocalyptic story set in the furthest reaches of our planet, in a stark desert landscape where humanity is broken, and most everyone is crazed fighting for the necessities of life. Within this world exist two rebels on the run who just might be able to restore order. There's Max, a man of action and a man of few words, who seeks peace of mind following the loss of his wife and child in the aftermath of the chaos. And Furiosa, a woman of action and a woman who believes her path to survival may be achieved if she can make it across the desert back to her childhood homeland.</td>\n",
       "      <td>120</td>\n",
       "      <td>Action|Adventure|Science Fiction|Thriller</td>\n",
       "      <td>Village Roadshow Pictures|Kennedy Miller Productions</td>\n",
       "      <td>5/13/15</td>\n",
       "      <td>6185</td>\n",
       "      <td>7.1</td>\n",
       "      <td>2015</td>\n",
       "      <td>1.379999e+08</td>\n",
       "      <td>3.481613e+08</td>\n",
       "    </tr>\n",
       "    <tr>\n",
       "      <th>2</th>\n",
       "      <td>262500</td>\n",
       "      <td>tt2908446</td>\n",
       "      <td>13.112507</td>\n",
       "      <td>110000000</td>\n",
       "      <td>295238201</td>\n",
       "      <td>Insurgent</td>\n",
       "      <td>Shailene Woodley|Theo James|Kate Winslet|Ansel Elgort|Miles Teller</td>\n",
       "      <td>http://www.thedivergentseries.movie/#insurgent</td>\n",
       "      <td>Robert Schwentke</td>\n",
       "      <td>One Choice Can Destroy You</td>\n",
       "      <td>...</td>\n",
       "      <td>Beatrice Prior must confront her inner demons and continue her fight against a powerful alliance which threatens to tear her society apart.</td>\n",
       "      <td>119</td>\n",
       "      <td>Adventure|Science Fiction|Thriller</td>\n",
       "      <td>Summit Entertainment|Mandeville Films|Red Wagon Entertainment|NeoReel</td>\n",
       "      <td>3/18/15</td>\n",
       "      <td>2480</td>\n",
       "      <td>6.3</td>\n",
       "      <td>2015</td>\n",
       "      <td>1.012000e+08</td>\n",
       "      <td>2.716190e+08</td>\n",
       "    </tr>\n",
       "    <tr>\n",
       "      <th>3</th>\n",
       "      <td>140607</td>\n",
       "      <td>tt2488496</td>\n",
       "      <td>11.173104</td>\n",
       "      <td>200000000</td>\n",
       "      <td>2068178225</td>\n",
       "      <td>Star Wars: The Force Awakens</td>\n",
       "      <td>Harrison Ford|Mark Hamill|Carrie Fisher|Adam Driver|Daisy Ridley</td>\n",
       "      <td>http://www.starwars.com/films/star-wars-episode-vii</td>\n",
       "      <td>J.J. Abrams</td>\n",
       "      <td>Every generation has a story.</td>\n",
       "      <td>...</td>\n",
       "      <td>Thirty years after defeating the Galactic Empire, Han Solo and his allies face a new threat from the evil Kylo Ren and his army of Stormtroopers.</td>\n",
       "      <td>136</td>\n",
       "      <td>Action|Adventure|Science Fiction|Fantasy</td>\n",
       "      <td>Lucasfilm|Truenorth Productions|Bad Robot</td>\n",
       "      <td>12/15/15</td>\n",
       "      <td>5292</td>\n",
       "      <td>7.5</td>\n",
       "      <td>2015</td>\n",
       "      <td>1.839999e+08</td>\n",
       "      <td>1.902723e+09</td>\n",
       "    </tr>\n",
       "    <tr>\n",
       "      <th>4</th>\n",
       "      <td>168259</td>\n",
       "      <td>tt2820852</td>\n",
       "      <td>9.335014</td>\n",
       "      <td>190000000</td>\n",
       "      <td>1506249360</td>\n",
       "      <td>Furious 7</td>\n",
       "      <td>Vin Diesel|Paul Walker|Jason Statham|Michelle Rodriguez|Dwayne Johnson</td>\n",
       "      <td>http://www.furious7.com/</td>\n",
       "      <td>James Wan</td>\n",
       "      <td>Vengeance Hits Home</td>\n",
       "      <td>...</td>\n",
       "      <td>Deckard Shaw seeks revenge against Dominic Toretto and his family for his comatose brother.</td>\n",
       "      <td>137</td>\n",
       "      <td>Action|Crime|Thriller</td>\n",
       "      <td>Universal Pictures|Original Film|Media Rights Capital|Dentsu|One Race Films</td>\n",
       "      <td>4/1/15</td>\n",
       "      <td>2947</td>\n",
       "      <td>7.3</td>\n",
       "      <td>2015</td>\n",
       "      <td>1.747999e+08</td>\n",
       "      <td>1.385749e+09</td>\n",
       "    </tr>\n",
       "  </tbody>\n",
       "</table>\n",
       "<p>5 rows × 21 columns</p>\n",
       "</div>"
      ],
      "text/plain": [
       "       id    imdb_id  popularity     budget     revenue  \\\n",
       "0  135397  tt0369610  32.985763   150000000  1513528810   \n",
       "1  76341   tt1392190  28.419936   150000000  378436354    \n",
       "2  262500  tt2908446  13.112507   110000000  295238201    \n",
       "3  140607  tt2488496  11.173104   200000000  2068178225   \n",
       "4  168259  tt2820852  9.335014    190000000  1506249360   \n",
       "\n",
       "                 original_title  \\\n",
       "0  Jurassic World                 \n",
       "1  Mad Max: Fury Road             \n",
       "2  Insurgent                      \n",
       "3  Star Wars: The Force Awakens   \n",
       "4  Furious 7                      \n",
       "\n",
       "                                                                          cast  \\\n",
       "0  Chris Pratt|Bryce Dallas Howard|Irrfan Khan|Vincent D'Onofrio|Nick Robinson   \n",
       "1  Tom Hardy|Charlize Theron|Hugh Keays-Byrne|Nicholas Hoult|Josh Helman         \n",
       "2  Shailene Woodley|Theo James|Kate Winslet|Ansel Elgort|Miles Teller            \n",
       "3  Harrison Ford|Mark Hamill|Carrie Fisher|Adam Driver|Daisy Ridley              \n",
       "4  Vin Diesel|Paul Walker|Jason Statham|Michelle Rodriguez|Dwayne Johnson        \n",
       "\n",
       "                                              homepage          director  \\\n",
       "0  http://www.jurassicworld.com/                        Colin Trevorrow    \n",
       "1  http://www.madmaxmovie.com/                          George Miller      \n",
       "2  http://www.thedivergentseries.movie/#insurgent       Robert Schwentke   \n",
       "3  http://www.starwars.com/films/star-wars-episode-vii  J.J. Abrams        \n",
       "4  http://www.furious7.com/                             James Wan          \n",
       "\n",
       "                         tagline  ...  \\\n",
       "0  The park is open.              ...   \n",
       "1  What a Lovely Day.             ...   \n",
       "2  One Choice Can Destroy You     ...   \n",
       "3  Every generation has a story.  ...   \n",
       "4  Vengeance Hits Home            ...   \n",
       "\n",
       "                                                                                                                                                                                                                                                                                                                                                                                                                                                                                                                                                                                                overview  \\\n",
       "0  Twenty-two years after the events of Jurassic Park, Isla Nublar now features a fully functioning dinosaur theme park, Jurassic World, as originally envisioned by John Hammond.                                                                                                                                                                                                                                                                                                                                                                                                                         \n",
       "1  An apocalyptic story set in the furthest reaches of our planet, in a stark desert landscape where humanity is broken, and most everyone is crazed fighting for the necessities of life. Within this world exist two rebels on the run who just might be able to restore order. There's Max, a man of action and a man of few words, who seeks peace of mind following the loss of his wife and child in the aftermath of the chaos. And Furiosa, a woman of action and a woman who believes her path to survival may be achieved if she can make it across the desert back to her childhood homeland.   \n",
       "2  Beatrice Prior must confront her inner demons and continue her fight against a powerful alliance which threatens to tear her society apart.                                                                                                                                                                                                                                                                                                                                                                                                                                                             \n",
       "3  Thirty years after defeating the Galactic Empire, Han Solo and his allies face a new threat from the evil Kylo Ren and his army of Stormtroopers.                                                                                                                                                                                                                                                                                                                                                                                                                                                       \n",
       "4  Deckard Shaw seeks revenge against Dominic Toretto and his family for his comatose brother.                                                                                                                                                                                                                                                                                                                                                                                                                                                                                                             \n",
       "\n",
       "  runtime                                     genres  \\\n",
       "0  124     Action|Adventure|Science Fiction|Thriller   \n",
       "1  120     Action|Adventure|Science Fiction|Thriller   \n",
       "2  119     Adventure|Science Fiction|Thriller          \n",
       "3  136     Action|Adventure|Science Fiction|Fantasy    \n",
       "4  137     Action|Crime|Thriller                       \n",
       "\n",
       "                                                                       production_companies  \\\n",
       "0  Universal Studios|Amblin Entertainment|Legendary Pictures|Fuji Television Network|Dentsu   \n",
       "1  Village Roadshow Pictures|Kennedy Miller Productions                                       \n",
       "2  Summit Entertainment|Mandeville Films|Red Wagon Entertainment|NeoReel                      \n",
       "3  Lucasfilm|Truenorth Productions|Bad Robot                                                  \n",
       "4  Universal Pictures|Original Film|Media Rights Capital|Dentsu|One Race Films                \n",
       "\n",
       "  release_date vote_count  vote_average  release_year    budget_adj  \\\n",
       "0  6/9/15       5562       6.5           2015          1.379999e+08   \n",
       "1  5/13/15      6185       7.1           2015          1.379999e+08   \n",
       "2  3/18/15      2480       6.3           2015          1.012000e+08   \n",
       "3  12/15/15     5292       7.5           2015          1.839999e+08   \n",
       "4  4/1/15       2947       7.3           2015          1.747999e+08   \n",
       "\n",
       "    revenue_adj  \n",
       "0  1.392446e+09  \n",
       "1  3.481613e+08  \n",
       "2  2.716190e+08  \n",
       "3  1.902723e+09  \n",
       "4  1.385749e+09  \n",
       "\n",
       "[5 rows x 21 columns]"
      ]
     },
     "execution_count": 38,
     "metadata": {},
     "output_type": "execute_result"
    }
   ],
   "source": [
    "# Load your data and print out a few lines. Perform operations to inspect data\n",
    "#   types and look for instances of missing or possibly errant data.\n",
    "df = pd.read_csv('Database_TMDb_movie_data/tmdb-movies.csv')\n",
    "pd.set_option(\"display.max_colwidth\", -1)\n",
    "#pd.options.display.max_rows = 9999\n",
    "df.head()"
   ]
  },
  {
   "cell_type": "markdown",
   "metadata": {},
   "source": [
    "Removing unwanted cloumns from the list, they won't be in the scope of the analysis..."
   ]
  },
  {
   "cell_type": "code",
   "execution_count": 39,
   "metadata": {},
   "outputs": [
    {
     "data": {
      "text/html": [
       "<div>\n",
       "<style scoped>\n",
       "    .dataframe tbody tr th:only-of-type {\n",
       "        vertical-align: middle;\n",
       "    }\n",
       "\n",
       "    .dataframe tbody tr th {\n",
       "        vertical-align: top;\n",
       "    }\n",
       "\n",
       "    .dataframe thead th {\n",
       "        text-align: right;\n",
       "    }\n",
       "</style>\n",
       "<table border=\"1\" class=\"dataframe\">\n",
       "  <thead>\n",
       "    <tr style=\"text-align: right;\">\n",
       "      <th></th>\n",
       "      <th>popularity</th>\n",
       "      <th>budget</th>\n",
       "      <th>revenue</th>\n",
       "      <th>original_title</th>\n",
       "      <th>cast</th>\n",
       "      <th>director</th>\n",
       "      <th>runtime</th>\n",
       "      <th>genres</th>\n",
       "      <th>production_companies</th>\n",
       "      <th>release_date</th>\n",
       "      <th>release_year</th>\n",
       "    </tr>\n",
       "  </thead>\n",
       "  <tbody>\n",
       "    <tr>\n",
       "      <th>0</th>\n",
       "      <td>32.985763</td>\n",
       "      <td>150000000</td>\n",
       "      <td>1513528810</td>\n",
       "      <td>Jurassic World</td>\n",
       "      <td>Chris Pratt|Bryce Dallas Howard|Irrfan Khan|Vincent D'Onofrio|Nick Robinson</td>\n",
       "      <td>Colin Trevorrow</td>\n",
       "      <td>124</td>\n",
       "      <td>Action|Adventure|Science Fiction|Thriller</td>\n",
       "      <td>Universal Studios|Amblin Entertainment|Legendary Pictures|Fuji Television Network|Dentsu</td>\n",
       "      <td>6/9/15</td>\n",
       "      <td>2015</td>\n",
       "    </tr>\n",
       "    <tr>\n",
       "      <th>1</th>\n",
       "      <td>28.419936</td>\n",
       "      <td>150000000</td>\n",
       "      <td>378436354</td>\n",
       "      <td>Mad Max: Fury Road</td>\n",
       "      <td>Tom Hardy|Charlize Theron|Hugh Keays-Byrne|Nicholas Hoult|Josh Helman</td>\n",
       "      <td>George Miller</td>\n",
       "      <td>120</td>\n",
       "      <td>Action|Adventure|Science Fiction|Thriller</td>\n",
       "      <td>Village Roadshow Pictures|Kennedy Miller Productions</td>\n",
       "      <td>5/13/15</td>\n",
       "      <td>2015</td>\n",
       "    </tr>\n",
       "    <tr>\n",
       "      <th>2</th>\n",
       "      <td>13.112507</td>\n",
       "      <td>110000000</td>\n",
       "      <td>295238201</td>\n",
       "      <td>Insurgent</td>\n",
       "      <td>Shailene Woodley|Theo James|Kate Winslet|Ansel Elgort|Miles Teller</td>\n",
       "      <td>Robert Schwentke</td>\n",
       "      <td>119</td>\n",
       "      <td>Adventure|Science Fiction|Thriller</td>\n",
       "      <td>Summit Entertainment|Mandeville Films|Red Wagon Entertainment|NeoReel</td>\n",
       "      <td>3/18/15</td>\n",
       "      <td>2015</td>\n",
       "    </tr>\n",
       "    <tr>\n",
       "      <th>3</th>\n",
       "      <td>11.173104</td>\n",
       "      <td>200000000</td>\n",
       "      <td>2068178225</td>\n",
       "      <td>Star Wars: The Force Awakens</td>\n",
       "      <td>Harrison Ford|Mark Hamill|Carrie Fisher|Adam Driver|Daisy Ridley</td>\n",
       "      <td>J.J. Abrams</td>\n",
       "      <td>136</td>\n",
       "      <td>Action|Adventure|Science Fiction|Fantasy</td>\n",
       "      <td>Lucasfilm|Truenorth Productions|Bad Robot</td>\n",
       "      <td>12/15/15</td>\n",
       "      <td>2015</td>\n",
       "    </tr>\n",
       "    <tr>\n",
       "      <th>4</th>\n",
       "      <td>9.335014</td>\n",
       "      <td>190000000</td>\n",
       "      <td>1506249360</td>\n",
       "      <td>Furious 7</td>\n",
       "      <td>Vin Diesel|Paul Walker|Jason Statham|Michelle Rodriguez|Dwayne Johnson</td>\n",
       "      <td>James Wan</td>\n",
       "      <td>137</td>\n",
       "      <td>Action|Crime|Thriller</td>\n",
       "      <td>Universal Pictures|Original Film|Media Rights Capital|Dentsu|One Race Films</td>\n",
       "      <td>4/1/15</td>\n",
       "      <td>2015</td>\n",
       "    </tr>\n",
       "  </tbody>\n",
       "</table>\n",
       "</div>"
      ],
      "text/plain": [
       "   popularity     budget     revenue                original_title  \\\n",
       "0  32.985763   150000000  1513528810  Jurassic World                 \n",
       "1  28.419936   150000000  378436354   Mad Max: Fury Road             \n",
       "2  13.112507   110000000  295238201   Insurgent                      \n",
       "3  11.173104   200000000  2068178225  Star Wars: The Force Awakens   \n",
       "4  9.335014    190000000  1506249360  Furious 7                      \n",
       "\n",
       "                                                                          cast  \\\n",
       "0  Chris Pratt|Bryce Dallas Howard|Irrfan Khan|Vincent D'Onofrio|Nick Robinson   \n",
       "1  Tom Hardy|Charlize Theron|Hugh Keays-Byrne|Nicholas Hoult|Josh Helman         \n",
       "2  Shailene Woodley|Theo James|Kate Winslet|Ansel Elgort|Miles Teller            \n",
       "3  Harrison Ford|Mark Hamill|Carrie Fisher|Adam Driver|Daisy Ridley              \n",
       "4  Vin Diesel|Paul Walker|Jason Statham|Michelle Rodriguez|Dwayne Johnson        \n",
       "\n",
       "           director  runtime                                     genres  \\\n",
       "0  Colin Trevorrow   124      Action|Adventure|Science Fiction|Thriller   \n",
       "1  George Miller     120      Action|Adventure|Science Fiction|Thriller   \n",
       "2  Robert Schwentke  119      Adventure|Science Fiction|Thriller          \n",
       "3  J.J. Abrams       136      Action|Adventure|Science Fiction|Fantasy    \n",
       "4  James Wan         137      Action|Crime|Thriller                       \n",
       "\n",
       "                                                                       production_companies  \\\n",
       "0  Universal Studios|Amblin Entertainment|Legendary Pictures|Fuji Television Network|Dentsu   \n",
       "1  Village Roadshow Pictures|Kennedy Miller Productions                                       \n",
       "2  Summit Entertainment|Mandeville Films|Red Wagon Entertainment|NeoReel                      \n",
       "3  Lucasfilm|Truenorth Productions|Bad Robot                                                  \n",
       "4  Universal Pictures|Original Film|Media Rights Capital|Dentsu|One Race Films                \n",
       "\n",
       "  release_date  release_year  \n",
       "0  6/9/15       2015          \n",
       "1  5/13/15      2015          \n",
       "2  3/18/15      2015          \n",
       "3  12/15/15     2015          \n",
       "4  4/1/15       2015          "
      ]
     },
     "execution_count": 39,
     "metadata": {},
     "output_type": "execute_result"
    }
   ],
   "source": [
    "df.drop(['id', 'imdb_id','homepage','tagline','overview','keywords','vote_count','vote_average','budget_adj','revenue_adj'], inplace=True, axis=1)\n",
    "df.head()"
   ]
  },
  {
   "cell_type": "code",
   "execution_count": 40,
   "metadata": {},
   "outputs": [
    {
     "name": "stdout",
     "output_type": "stream",
     "text": [
      "<class 'pandas.core.frame.DataFrame'>\n",
      "RangeIndex: 10866 entries, 0 to 10865\n",
      "Data columns (total 11 columns):\n",
      "popularity              10866 non-null float64\n",
      "budget                  10866 non-null int64\n",
      "revenue                 10866 non-null int64\n",
      "original_title          10866 non-null object\n",
      "cast                    10790 non-null object\n",
      "director                10822 non-null object\n",
      "runtime                 10866 non-null int64\n",
      "genres                  10843 non-null object\n",
      "production_companies    9836 non-null object\n",
      "release_date            10866 non-null object\n",
      "release_year            10866 non-null int64\n",
      "dtypes: float64(1), int64(4), object(6)\n",
      "memory usage: 933.9+ KB\n",
      "There are 10866 movies in this list, with 11 columns\n"
     ]
    }
   ],
   "source": [
    "df.info()\n",
    "print ('There are {} movies in this list, with {} columns'.format(df.shape[0],df.shape[1]))"
   ]
  },
  {
   "cell_type": "markdown",
   "metadata": {},
   "source": [
    "From the above output we know that there are 10866 movies in this list.\n",
    "some columns have null objects\n",
    "also we need to check if budget, revenue"
   ]
  },
  {
   "cell_type": "markdown",
   "metadata": {},
   "source": [
    "\n",
    "### Data Cleaning\n",
    "> **Tip**: Make sure that you keep your reader informed on the steps that you are taking in your investigation. Follow every code cell, or every set of related code cells, with a markdown cell to describe to the reader what was found in the preceding cell(s). Try to make it so that the reader can then understand what they will be seeing in the following cell(s).\n",
    " "
   ]
  },
  {
   "cell_type": "markdown",
   "metadata": {},
   "source": [
    "The code below will replace all zeros values to NAN value, then all NAN value are dropped "
   ]
  },
  {
   "cell_type": "code",
   "execution_count": 41,
   "metadata": {},
   "outputs": [
    {
     "name": "stdout",
     "output_type": "stream",
     "text": [
      "<class 'pandas.core.frame.DataFrame'>\n",
      "Int64Index: 3806 entries, 0 to 10848\n",
      "Data columns (total 11 columns):\n",
      "popularity              3806 non-null float64\n",
      "budget                  3806 non-null float64\n",
      "revenue                 3806 non-null float64\n",
      "original_title          3806 non-null object\n",
      "cast                    3806 non-null object\n",
      "director                3806 non-null object\n",
      "runtime                 3806 non-null float64\n",
      "genres                  3806 non-null object\n",
      "production_companies    3806 non-null object\n",
      "release_date            3806 non-null object\n",
      "release_year            3806 non-null int64\n",
      "dtypes: float64(4), int64(1), object(6)\n",
      "memory usage: 356.8+ KB\n"
     ]
    }
   ],
   "source": [
    "# After discussing the structure of the data and any problems that need to be\n",
    "#   cleaned, perform those cleaning steps in the second part of this section.\n",
    "df[['popularity','budget', 'revenue','runtime','release_year']] = df[['popularity','budget', 'revenue','runtime','release_year']].replace(0, np.NAN)\n",
    "df.dropna(inplace = True)\n",
    "df.info()"
   ]
  },
  {
   "cell_type": "code",
   "execution_count": 42,
   "metadata": {},
   "outputs": [
    {
     "data": {
      "text/plain": [
       "dtype('<M8[ns]')"
      ]
     },
     "execution_count": 42,
     "metadata": {},
     "output_type": "execute_result"
    }
   ],
   "source": [
    "df.release_date = pd.to_datetime(df['release_date']) #datatype casting to datetime\n",
    "df['release_date'].dtype"
   ]
  },
  {
   "cell_type": "markdown",
   "metadata": {},
   "source": [
    "# Database is diminished to 3806 movies titles only!"
   ]
  },
  {
   "cell_type": "markdown",
   "metadata": {},
   "source": [
    "<a id='eda'></a>\n",
    "## Exploratory Data Analysis\n",
    "\n",
    "> **Tip**: Now that you've trimmed and cleaned your data, you're ready to move on to exploration. **Compute statistics** and **create visualizations** with the goal of addressing the research questions that you posed in the Introduction section. You should compute the relevant statistics throughout the analysis when an inference is made about the data. Note that at least two or more kinds of plots should be created as part of the exploration, and you must  compare and show trends in the varied visualizations. \n",
    "\n",
    "\n",
    "\n",
    "> **Tip**: - Investigate the stated question(s) from multiple angles. It is recommended that you be systematic with your approach. Look at one variable at a time, and then follow it up by looking at relationships between variables. You should explore at least three variables in relation to the primary question. This can be an exploratory relationship between three variables of interest, or looking at how two independent variables relate to a single dependent variable of interest. Lastly, you  should perform both single-variable (1d) and multiple-variable (2d) explorations.\n",
    "\n",
    "\n",
    "### Research Question 1 (which movies have max/min profit, max/min budget, max/min revenue?)"
   ]
  },
  {
   "cell_type": "markdown",
   "metadata": {},
   "source": [
    "We need to know each movie's profit (in millions units)  by substracting revenue from budget and adding it to our data frame"
   ]
  },
  {
   "cell_type": "code",
   "execution_count": 43,
   "metadata": {},
   "outputs": [],
   "source": [
    "df.insert(0,'profit',(df['revenue']-df['budget'])/1000000)"
   ]
  },
  {
   "cell_type": "code",
   "execution_count": 44,
   "metadata": {
    "scrolled": true
   },
   "outputs": [],
   "source": [
    "df['profit']=df['profit'].round(decimals = 0) #rounding profit \n",
    "df.profit = df.profit.astype(int) #converting to int64 for handling easily"
   ]
  },
  {
   "cell_type": "code",
   "execution_count": 45,
   "metadata": {},
   "outputs": [
    {
     "data": {
      "text/html": [
       "<div>\n",
       "<style scoped>\n",
       "    .dataframe tbody tr th:only-of-type {\n",
       "        vertical-align: middle;\n",
       "    }\n",
       "\n",
       "    .dataframe tbody tr th {\n",
       "        vertical-align: top;\n",
       "    }\n",
       "\n",
       "    .dataframe thead th {\n",
       "        text-align: right;\n",
       "    }\n",
       "</style>\n",
       "<table border=\"1\" class=\"dataframe\">\n",
       "  <thead>\n",
       "    <tr style=\"text-align: right;\">\n",
       "      <th></th>\n",
       "      <th>profit</th>\n",
       "      <th>popularity</th>\n",
       "      <th>budget</th>\n",
       "      <th>revenue</th>\n",
       "      <th>runtime</th>\n",
       "      <th>release_year</th>\n",
       "    </tr>\n",
       "  </thead>\n",
       "  <tbody>\n",
       "    <tr>\n",
       "      <th>count</th>\n",
       "      <td>3806.000000</td>\n",
       "      <td>3806.000000</td>\n",
       "      <td>3.806000e+03</td>\n",
       "      <td>3.806000e+03</td>\n",
       "      <td>3806.000000</td>\n",
       "      <td>3806.000000</td>\n",
       "    </tr>\n",
       "    <tr>\n",
       "      <th>mean</th>\n",
       "      <td>71.330005</td>\n",
       "      <td>1.203625</td>\n",
       "      <td>3.760600e+07</td>\n",
       "      <td>1.089450e+08</td>\n",
       "      <td>109.346558</td>\n",
       "      <td>2001.231477</td>\n",
       "    </tr>\n",
       "    <tr>\n",
       "      <th>std</th>\n",
       "      <td>151.367733</td>\n",
       "      <td>1.480407</td>\n",
       "      <td>4.231641e+07</td>\n",
       "      <td>1.772829e+08</td>\n",
       "      <td>19.845063</td>\n",
       "      <td>11.329019</td>\n",
       "    </tr>\n",
       "    <tr>\n",
       "      <th>min</th>\n",
       "      <td>-414.000000</td>\n",
       "      <td>0.010335</td>\n",
       "      <td>1.000000e+00</td>\n",
       "      <td>2.000000e+00</td>\n",
       "      <td>15.000000</td>\n",
       "      <td>1960.000000</td>\n",
       "    </tr>\n",
       "    <tr>\n",
       "      <th>25%</th>\n",
       "      <td>-1.000000</td>\n",
       "      <td>0.470673</td>\n",
       "      <td>1.000000e+07</td>\n",
       "      <td>1.429262e+07</td>\n",
       "      <td>96.000000</td>\n",
       "      <td>1995.000000</td>\n",
       "    </tr>\n",
       "    <tr>\n",
       "      <th>50%</th>\n",
       "      <td>20.000000</td>\n",
       "      <td>0.810226</td>\n",
       "      <td>2.500000e+07</td>\n",
       "      <td>4.620904e+07</td>\n",
       "      <td>106.000000</td>\n",
       "      <td>2004.000000</td>\n",
       "    </tr>\n",
       "    <tr>\n",
       "      <th>75%</th>\n",
       "      <td>83.000000</td>\n",
       "      <td>1.387058</td>\n",
       "      <td>5.000000e+07</td>\n",
       "      <td>1.260625e+08</td>\n",
       "      <td>119.000000</td>\n",
       "      <td>2010.000000</td>\n",
       "    </tr>\n",
       "    <tr>\n",
       "      <th>max</th>\n",
       "      <td>2545.000000</td>\n",
       "      <td>32.985763</td>\n",
       "      <td>4.250000e+08</td>\n",
       "      <td>2.781506e+09</td>\n",
       "      <td>338.000000</td>\n",
       "      <td>2015.000000</td>\n",
       "    </tr>\n",
       "  </tbody>\n",
       "</table>\n",
       "</div>"
      ],
      "text/plain": [
       "            profit   popularity        budget       revenue      runtime  \\\n",
       "count  3806.000000  3806.000000  3.806000e+03  3.806000e+03  3806.000000   \n",
       "mean   71.330005    1.203625     3.760600e+07  1.089450e+08  109.346558    \n",
       "std    151.367733   1.480407     4.231641e+07  1.772829e+08  19.845063     \n",
       "min   -414.000000   0.010335     1.000000e+00  2.000000e+00  15.000000     \n",
       "25%   -1.000000     0.470673     1.000000e+07  1.429262e+07  96.000000     \n",
       "50%    20.000000    0.810226     2.500000e+07  4.620904e+07  106.000000    \n",
       "75%    83.000000    1.387058     5.000000e+07  1.260625e+08  119.000000    \n",
       "max    2545.000000  32.985763    4.250000e+08  2.781506e+09  338.000000    \n",
       "\n",
       "       release_year  \n",
       "count  3806.000000   \n",
       "mean   2001.231477   \n",
       "std    11.329019     \n",
       "min    1960.000000   \n",
       "25%    1995.000000   \n",
       "50%    2004.000000   \n",
       "75%    2010.000000   \n",
       "max    2015.000000   "
      ]
     },
     "execution_count": 45,
     "metadata": {},
     "output_type": "execute_result"
    }
   ],
   "source": [
    "df.describe()"
   ]
  },
  {
   "cell_type": "markdown",
   "metadata": {},
   "source": [
    "it's clear that the highest movie profit was 2545m USD and the lowest was -414m which is a big loss !\n",
    "\n",
    "Let's find what are these movies  and also let's find movies with max/min budget and revenue too."
   ]
  },
  {
   "cell_type": "code",
   "execution_count": 52,
   "metadata": {},
   "outputs": [
    {
     "name": "stdout",
     "output_type": "stream",
     "text": [
      "\"Avatar\" movie is the highest profit of 2545m, while \"The Warrior's Way\" movie is the lowest of -414m\n",
      "\"The Warrior's Way\" movie is the highest budget of 425000000.0m, while \"Lost & Found\" movie is the lowest of 1.0m\n",
      "\"Avatar\" movie is the highest revenue of 2781505847.0m, while \"Shattered Glass\" movie is the lowest of 2.0m\n"
     ]
    }
   ],
   "source": [
    "def get_max_min(data_frame,col_num,col_str):\n",
    "    col_max=data_frame.loc[data_frame[col_num] == data_frame[col_num].max()][col_str].iloc[0]\n",
    "    col_min=data_frame.loc[data_frame[col_num] == data_frame[col_num].min()][col_str].iloc[0]\n",
    "    print('\"{}\" movie is the highest {} of {}m, while \"{}\" movie is the lowest of {}m'.format(col_max,col_num,data_frame[col_num].max(),col_min,data_frame[col_num].min()))\n",
    "\n",
    "get_max_min(df,'profit','original_title')\n",
    "get_max_min(df,'budget','original_title')\n",
    "get_max_min(df,'revenue','original_title')"
   ]
  },
  {
   "cell_type": "markdown",
   "metadata": {},
   "source": [
    "### Research Question 2  (what is the runtime average for all movies ?)"
   ]
  },
  {
   "cell_type": "code",
   "execution_count": 53,
   "metadata": {},
   "outputs": [
    {
     "name": "stdout",
     "output_type": "stream",
     "text": [
      "mean run time is : 109.34655806621124 minutes\n"
     ]
    },
    {
     "data": {
      "image/png": "[encoded data removed]",
      "text/plain": [
       "<Figure size 432x288 with 1 Axes>"
      ]
     },
     "metadata": {
      "needs_background": "light"
     },
     "output_type": "display_data"
    }
   ],
   "source": [
    "# Continue to explore the data to address your additional research\n",
    "#   questions. Add more headers as needed if you have more questions to\n",
    "#   investigate.\n",
    "df.hist(column='runtime');\n",
    "plt.title(\"Runtime \")\n",
    "plt.ylabel('Number of Occurrences', fontsize=12)\n",
    "plt.xlabel('Runtime in minutes', fontsize=12)\n",
    "print('mean run time is :',df['runtime'].mean(),'minutes')\n"
   ]
  },
  {
   "cell_type": "markdown",
   "metadata": {},
   "source": [
    "### Research Question 3  (who is the director with the most profitable movies?)"
   ]
  },
  {
   "cell_type": "markdown",
   "metadata": {},
   "source": [
    "Here I will read the database again but I will not drop NAN values, because I will analyze the whole dataset\n",
    "for profits that are NAN values, the will be replaced by the mean value of all profits.\n"
   ]
  },
  {
   "cell_type": "code",
   "execution_count": 54,
   "metadata": {},
   "outputs": [
    {
     "data": {
      "text/plain": [
       "Woody Allen         39\n",
       "Clint Eastwood      30\n",
       "Steven Spielberg    28\n",
       "Martin Scorsese     26\n",
       "Ron Howard          20\n",
       "                    ..\n",
       "Goran Dukic         1 \n",
       "Martyn Pick         1 \n",
       "Xavier Dolan        1 \n",
       "Eytan Fox           1 \n",
       "Josh Reed           1 \n",
       "Name: director, Length: 4818, dtype: int64"
      ]
     },
     "execution_count": 54,
     "metadata": {},
     "output_type": "execute_result"
    }
   ],
   "source": [
    "df_untruncated = pd.read_csv('Database_TMDb_movie_data/tmdb-movies.csv')\n",
    "df_untruncated.insert(0,'profit',(df['revenue']-df['budget'])/1000000)\n",
    "df_untruncated['profit']=df_untruncated['profit'].round(decimals = 0) #rounding profit \n",
    "df_untruncated['profit'].fillna(value=df_untruncated['profit'].mean(), inplace=True)\n",
    "df_untruncated.profit = df_untruncated.profit.astype(int)\n",
    "\n",
    "df_profit=df_untruncated.query('profit > 0')\n",
    "df_profit['director'].value_counts()"
   ]
  },
  {
   "cell_type": "markdown",
   "metadata": {},
   "source": [
    "and here is the legendary **Woody Allen** in the top of the list. with 39 movie titles !\n",
    "Next, **Clint Eastwood** and then **Steven Spielberg**!"
   ]
  },
  {
   "cell_type": "markdown",
   "metadata": {},
   "source": [
    "### Research Question 4  (What is the most profitable Genres?)"
   ]
  },
  {
   "cell_type": "code",
   "execution_count": 55,
   "metadata": {
    "scrolled": true
   },
   "outputs": [
    {
     "name": "stderr",
     "output_type": "stream",
     "text": [
      "/opt/conda/lib/python3.6/site-packages/seaborn/_decorators.py:43: FutureWarning: Pass the following variables as keyword args: x, y. From version 0.12, the only valid positional argument will be `data`, and passing other arguments without an explicit keyword will result in an error or misinterpretation.\n",
      "  FutureWarning\n"
     ]
    },
    {
     "data": {
      "image/png": "[encoded data removed]",
      "text/plain": [
       "<Figure size 1440x720 with 1 Axes>"
      ]
     },
     "metadata": {
      "needs_background": "light"
     },
     "output_type": "display_data"
    }
   ],
   "source": [
    "df_profit=df_untruncated.query('profit > 0')\n",
    "genres_mod=df_profit['genres'].str.cat(sep = '|') \n",
    "genres_mod=pd.Series(genres_mod.split('|'))\n",
    "y=genres_mod.value_counts()\n",
    "plt.figure(figsize=(20,10))\n",
    "sns.barplot(y.index, y.values, alpha=0.8)\n",
    "plt.title('most frequent Genres')\n",
    "plt.ylabel('Number of Occurrences', fontsize=12)\n",
    "plt.xlabel('Genres', fontsize=12)\n",
    "plt.show()"
   ]
  },
  {
   "cell_type": "markdown",
   "metadata": {},
   "source": [
    "as ref to https://www.kaggle.com/code/tejainece/seaborn-barplot-and-pandas-value-counts/notebook\n",
    "I used the code to plot all Genres frequency\n",
    "Drama came 1st and then Comedy!"
   ]
  },
  {
   "cell_type": "markdown",
   "metadata": {},
   "source": [
    "### Research Question 5  (what are movie profits from 1996 to 2015?)"
   ]
  },
  {
   "cell_type": "code",
   "execution_count": 56,
   "metadata": {},
   "outputs": [
    {
     "data": {
      "image/png": "[encoded data removed]",
      "text/plain": [
       "<Figure size 1440x720 with 1 Axes>"
      ]
     },
     "metadata": {
      "needs_background": "light"
     },
     "output_type": "display_data"
    }
   ],
   "source": [
    "z=df.groupby('release_year').describe()['profit']['mean'][-20:]\n",
    "plt.figure(figsize=(20,10))\n",
    "plt.plot(z)\n",
    "plt.title('Years against profit')\n",
    "plt.ylabel('Profit in Millions', fontsize=12)\n",
    "plt.xlabel('Years', fontsize=12)\n",
    "plt.show()"
   ]
  },
  {
   "cell_type": "markdown",
   "metadata": {},
   "source": [
    "it's clear that profit is increasing and hitting spikes in 2012 & 2015 and we can predict that profit hits more values in the next years."
   ]
  },
  {
   "cell_type": "markdown",
   "metadata": {},
   "source": [
    "### Research Question 6 (Who are the top ten participating actors in profitable movies?)"
   ]
  },
  {
   "cell_type": "code",
   "execution_count": 57,
   "metadata": {},
   "outputs": [
    {
     "data": {
      "text/plain": [
       "Robert De Niro       37\n",
       "Tom Hanks            33\n",
       "Bruce Willis         33\n",
       "Tom Cruise           31\n",
       "Brad Pitt            30\n",
       "Samuel L. Jackson    29\n",
       "Denzel Washington    29\n",
       "Harrison Ford        28\n",
       "Morgan Freeman       27\n",
       "Cameron Diaz         27\n",
       "dtype: int64"
      ]
     },
     "execution_count": 57,
     "metadata": {},
     "output_type": "execute_result"
    }
   ],
   "source": [
    "df_profit=df.query('profit > 0')\n",
    "actors_mod=df_profit['cast'].str.cat(sep = '|') \n",
    "actors_mod=pd.Series(actors_mod.split('|'))\n",
    "y=actors_mod.value_counts()\n",
    "y.head(10)\n"
   ]
  },
  {
   "cell_type": "markdown",
   "metadata": {},
   "source": [
    "Of course the legendary **Robert De Niro** on top of the list, followed by the lord of all acting **Mr. Tom Hanks** and The most gifted  **Bruce Willis**"
   ]
  },
  {
   "cell_type": "markdown",
   "metadata": {},
   "source": [
    "<a id='conclusions'></a>\n",
    "## Conclusions\n",
    "\n",
    "> **Tip**: Finally, summarize your findings and the results that have been performed in relation to the question(s) provided at the beginning of the analysis. Summarize the results accurately, and point out where additional research can be done or where additional information could be useful.\n",
    "\n",
    "> **Tip**: Make sure that you are clear with regards to the limitations of your exploration. You should have at least 1 limitation explained clearly. \n",
    "\n",
    "> **Tip**: If you haven't done any statistical tests, do not imply any statistical conclusions. And make sure you avoid implying causation from correlation!\n",
    "\n",
    "> **Tip**: Once you are satisfied with your work here, check over your report to make sure that it is satisfies all the areas of the rubric (found on the project submission page at the end of the lesson). You should also probably remove all of the \"Tips\" like this one so that the presentation is as polished as possible.\n",
    "\n",
    "### Finally, we have come to some conclusions here:\n",
    "1. Since the data needs some data entry fillings e.g Revenue & budget, not all movies have been taken into consideration\n",
    "2. **Avatar** movie is by far the most movie I really enjoy myself. and it seems to be so for many user viewers, as it earned 2.7 billions USD as revenue and profit was 2.5 Billions USD.\n",
    "3. average run time of 109 minutes states clear that not all movies of 120+ mins are preferable for film makers.\n",
    "4. Woody allen of course hits the top of the list, the father of all directors.\n",
    "5. It seems Drama , Comedy and Thrillers are the  most genres prefered by audience\n",
    "6. Profits are increasing rapidly from year to year. audience are growing as much more cinemas open all over the world. so to increase movies profits always aim to increase your audience by building more theaters!\n",
    "7. last but not least, Mr Robert De Niro is the most frequent actor in the profitable movies list. that's why all film producers want to work with such talent!\n",
    "\n",
    "\n",
    "#### Since data is limited to movies until year 2015, I suggest updating the list to year 2022 as we will see the effect of COVID-19 on the movie industry and revenues.\n",
    "\n",
    "## Submitting your Project \n",
    "\n",
    "> **Tip**: Before you submit your project, you need to create a .html or .pdf version of this notebook in the workspace here. To do that, run the code cell below. If it worked correctly, you should get a return code of 0, and you should see the generated .html file in the workspace directory (click on the orange Jupyter icon in the upper left).\n",
    "\n",
    "> **Tip**: Alternatively, you can download this report as .html via the **File** > **Download as** submenu, and then manually upload it into the workspace directory by clicking on the orange Jupyter icon in the upper left, then using the Upload button.\n",
    "\n",
    "> **Tip**: Once you've done this, you can submit your project by clicking on the \"Submit Project\" button in the lower right here. This will create and submit a zip file with this .ipynb doc and the .html or .pdf version you created. Congratulations!"
   ]
  },
  {
   "cell_type": "code",
   "execution_count": 58,
   "metadata": {},
   "outputs": [
    {
     "data": {
      "text/plain": [
       "0"
      ]
     },
     "execution_count": 58,
     "metadata": {},
     "output_type": "execute_result"
    }
   ],
   "source": [
    "from subprocess import call\n",
    "call(['python', '-m', 'nbconvert', 'Investigate_a_Dataset.ipynb'])"
   ]
  },
  {
   "cell_type": "code",
   "execution_count": null,
   "metadata": {},
   "outputs": [],
   "source": []
  }
 ],
 "metadata": {
  "kernelspec": {
   "display_name": "Python 3",
   "language": "python",
   "name": "python3"
  },
  "language_info": {
   "codemirror_mode": {
    "name": "ipython",
    "version": 3
   },
   "file_extension": ".py",
   "mimetype": "text/x-python",
   "name": "python",
   "nbconvert_exporter": "python",
   "pygments_lexer": "ipython3",
   "version": "3.6.3"
  }
 },
 "nbformat": 4,
 "nbformat_minor": 2
}
